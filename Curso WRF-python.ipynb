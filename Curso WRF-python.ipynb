{
 "cells": [
  {
   "cell_type": "markdown",
   "metadata": {
    "slideshow": {
     "slide_type": "slide"
    }
   },
   "source": [
    "# Curso WRF-python\n",
    "\n",
    "Gonzalo Zigarán\n",
    "\n",
    "_gjzigaran@gmail.com_\n",
    "\n",
    "#### Links:\n",
    "* https://github.com/NCAR/wrf-python/\n",
    "* https://github.com/NCAR/wrf_python_tutorial/"
   ]
  },
  {
   "cell_type": "markdown",
   "metadata": {
    "slideshow": {
     "slide_type": "slide"
    }
   },
   "source": [
    "## Temas:\n",
    "1. Introducción a las librerías (python, jupyter notebooks, numpy, pandas, xarray)\n",
    "1. Cómo leer una salida de WRF \n",
    "1. wrf-python\n",
    "1. Librerías para graficar (matplotlib, basemap)\n",
    "1. Ejemplos"
   ]
  },
  {
   "cell_type": "markdown",
   "metadata": {
    "slideshow": {
     "slide_type": "slide"
    }
   },
   "source": [
    "### 1. Introducción a las librerías\n",
    "\n",
    "#### Python\n",
    "\n",
    "- Lenguaje de programación relativamente nuevo y con gran crecimiento\n",
    "- Es interpretado \n",
    "- Licencia de código abierto\n",
    "- De alto nivel, lo que posibilita que su código sea muy legible.\n",
    "- Gran cantidad de documentación y comunidad de usuarios\n",
    "\n"
   ]
  },
  {
   "cell_type": "markdown",
   "metadata": {
    "slideshow": {
     "slide_type": "slide"
    }
   },
   "source": [
    "#### Jupyter Notebook\n",
    "\n",
    "Es una aplicación web de codigo abierto que permite crear documentos que combinan código, visualizaciones y texto, además de ejecutar el código. Originalmente estaba pensado para el intérprete IPython pero ahora también permite trabajar con otros lenguajes como Julia, R, Octave."
   ]
  },
  {
   "cell_type": "markdown",
   "metadata": {
    "slideshow": {
     "slide_type": "slide"
    }
   },
   "source": [
    "#### Numpy\n",
    "\n",
    "NumPy es un paquete para computación científica con Python. Le agrega un mayor soporte para el trabajo con vectores y matrices eficientemente, integrado con C y Fortran.\n",
    "\n",
    "Los arreglos de numpy pueden ser creados con los tipos comunes de C:\n",
    "- int8, int16, int32, int64 \n",
    "- float16, float32, float64 [default]\n",
    "- bool\n",
    "- complex64, complex128\n",
    "y pueden ser ordenados como en C (más rápido de acceder a derecha, por defecto) o como en Fortran (más rápido de acceder a izquierda)\n",
    "\n",
    "##### Ejemplo de uso:"
   ]
  },
  {
   "cell_type": "code",
   "execution_count": 1,
   "metadata": {
    "slideshow": {
     "slide_type": "subslide"
    }
   },
   "outputs": [
    {
     "name": "stdout",
     "output_type": "stream",
     "text": [
      "[[[ 0.  5.  0.]\n",
      "  [ 0.  0.  0.]\n",
      "  [ 0.  0.  0.]]\n",
      "\n",
      " [[ 0.  0.  0.]\n",
      "  [ 0.  0.  0.]\n",
      "  [ 0.  0.  0.]]\n",
      "\n",
      " [[ 0.  0.  0.]\n",
      "  [ 0.  0.  0.]\n",
      "  [ 0.  0.  0.]]]\n",
      "0.0\n",
      "[ 0.  5.  0.]\n"
     ]
    }
   ],
   "source": [
    "import numpy as np\n",
    "\n",
    "# crea un un arreglo tri-dimensional de ceros\n",
    "my_array = np.zeros((3,3,3), \"float32\")\n",
    "\n",
    "# acceder a un elemento\n",
    "first_element = my_array[0,0,0]\n",
    "\n",
    "# editar un elemento\n",
    "my_array[0,0,1] = 5\n",
    "\n",
    "# acceder a una fila\n",
    "first_row = my_array[0,0,:]\n",
    "\n",
    "print my_array\n",
    "print first_element\n",
    "print first_row"
   ]
  },
  {
   "cell_type": "markdown",
   "metadata": {},
   "source": [
    "\n",
    "#### Pandas\n",
    "\n",
    "Pandas es una librería que proporciona alto rendimiento para el análisis y estructura de datos. Es fácil e intuitivo de usar y conbina muchas funciones con NumPy. (Gran reemplazo del excel)\n",
    "\n",
    "##### Ejemplo de uso:\n"
   ]
  },
  {
   "cell_type": "code",
   "execution_count": 2,
   "metadata": {},
   "outputs": [
    {
     "data": {
      "text/html": [
       "<div>\n",
       "<style scoped>\n",
       "    .dataframe tbody tr th:only-of-type {\n",
       "        vertical-align: middle;\n",
       "    }\n",
       "\n",
       "    .dataframe tbody tr th {\n",
       "        vertical-align: top;\n",
       "    }\n",
       "\n",
       "    .dataframe thead th {\n",
       "        text-align: right;\n",
       "    }\n",
       "</style>\n",
       "<table border=\"1\" class=\"dataframe\">\n",
       "  <thead>\n",
       "    <tr style=\"text-align: right;\">\n",
       "      <th></th>\n",
       "      <th>one</th>\n",
       "      <th>two</th>\n",
       "    </tr>\n",
       "  </thead>\n",
       "  <tbody>\n",
       "    <tr>\n",
       "      <th>a</th>\n",
       "      <td>1.0</td>\n",
       "      <td>1.0</td>\n",
       "    </tr>\n",
       "    <tr>\n",
       "      <th>b</th>\n",
       "      <td>2.0</td>\n",
       "      <td>2.0</td>\n",
       "    </tr>\n",
       "    <tr>\n",
       "      <th>c</th>\n",
       "      <td>3.0</td>\n",
       "      <td>3.0</td>\n",
       "    </tr>\n",
       "    <tr>\n",
       "      <th>d</th>\n",
       "      <td>NaN</td>\n",
       "      <td>4.0</td>\n",
       "    </tr>\n",
       "  </tbody>\n",
       "</table>\n",
       "</div>"
      ],
      "text/plain": [
       "   one  two\n",
       "a  1.0  1.0\n",
       "b  2.0  2.0\n",
       "c  3.0  3.0\n",
       "d  NaN  4.0"
      ]
     },
     "execution_count": 2,
     "metadata": {},
     "output_type": "execute_result"
    }
   ],
   "source": [
    "import pandas as pd\n",
    "\n",
    "d = {'one' : pd.Series([1., 2., 3.], index=['a', 'b', 'c']),\n",
    "     'two' : pd.Series([1., 2., 3., 4.], index=['a', 'b', 'c', 'd'])} \n",
    "\n",
    "df = pd.DataFrame(d)\n",
    "\n",
    "\n",
    "df"
   ]
  },
  {
   "cell_type": "code",
   "execution_count": 3,
   "metadata": {},
   "outputs": [
    {
     "data": {
      "text/html": [
       "<div>\n",
       "<style scoped>\n",
       "    .dataframe tbody tr th:only-of-type {\n",
       "        vertical-align: middle;\n",
       "    }\n",
       "\n",
       "    .dataframe tbody tr th {\n",
       "        vertical-align: top;\n",
       "    }\n",
       "\n",
       "    .dataframe thead th {\n",
       "        text-align: right;\n",
       "    }\n",
       "</style>\n",
       "<table border=\"1\" class=\"dataframe\">\n",
       "  <thead>\n",
       "    <tr style=\"text-align: right;\">\n",
       "      <th></th>\n",
       "      <th>one</th>\n",
       "      <th>two</th>\n",
       "    </tr>\n",
       "  </thead>\n",
       "  <tbody>\n",
       "    <tr>\n",
       "      <th>a</th>\n",
       "      <td>1</td>\n",
       "      <td>1</td>\n",
       "    </tr>\n",
       "    <tr>\n",
       "      <th>b</th>\n",
       "      <td>2</td>\n",
       "      <td>2</td>\n",
       "    </tr>\n",
       "    <tr>\n",
       "      <th>c</th>\n",
       "      <td>3</td>\n",
       "      <td>3</td>\n",
       "    </tr>\n",
       "    <tr>\n",
       "      <th>d</th>\n",
       "      <td>NaN</td>\n",
       "      <td>4</td>\n",
       "    </tr>\n",
       "  </tbody>\n",
       "</table>\n",
       "</div>"
      ],
      "text/plain": [
       "   one two\n",
       "a    1   1\n",
       "b    2   2\n",
       "c    3   3\n",
       "d  NaN   4"
      ]
     },
     "execution_count": 3,
     "metadata": {},
     "output_type": "execute_result"
    }
   ],
   "source": [
    "df2 = pd.DataFrame(columns=['one','two'])\n",
    "\n",
    "df2.loc['a'] = [1,1]\n",
    "df2.loc['b'] = [2,2]\n",
    "df2.loc['c'] = [3,3]\n",
    "df2.loc['d', 'two'] = 4\n",
    "\n",
    "df2"
   ]
  },
  {
   "cell_type": "code",
   "execution_count": 4,
   "metadata": {},
   "outputs": [
    {
     "data": {
      "text/plain": [
       "a    1\n",
       "b    2\n",
       "c    3\n",
       "d    4\n",
       "Name: two, dtype: object"
      ]
     },
     "execution_count": 4,
     "metadata": {},
     "output_type": "execute_result"
    }
   ],
   "source": [
    "df2['two']"
   ]
  },
  {
   "cell_type": "markdown",
   "metadata": {},
   "source": [
    "\n",
    "#### xarray\n",
    "\n",
    "Librería que buscar profundizar Pandas para poder trabajar con estructuras de datos más complejas. En particular trabaja con estructuras similares al formato NetCDF. Basicamente busca complejizar la estructura de arreglos de Numpy con metadatos.\n",
    "\n",
    "##### Ejemplo de uso:\n"
   ]
  },
  {
   "cell_type": "code",
   "execution_count": 5,
   "metadata": {},
   "outputs": [
    {
     "name": "stdout",
     "output_type": "stream",
     "text": [
      "<xarray.DataArray 'my_xarray' (bottom_top: 3, south_north: 3, west_east: 3)>\n",
      "array([[[ 0.,  0.,  0.],\n",
      "        [ 0.,  0.,  0.],\n",
      "        [ 0.,  0.,  0.]],\n",
      "\n",
      "       [[ 0.,  0.,  0.],\n",
      "        [ 0.,  0.,  0.],\n",
      "        [ 0.,  0.,  0.]],\n",
      "\n",
      "       [[ 0.,  0.,  0.],\n",
      "        [ 0.,  0.,  0.],\n",
      "        [ 0.,  0.,  0.]]], dtype=float32)\n",
      "Coordinates:\n",
      "  * south_north  (south_north) float64 40.0 50.0 60.0\n",
      "  * west_east    (west_east) float64 -120.0 -110.0 -100.0\n",
      "  * bottom_top   (bottom_top) float64 100.0 200.0 300.0\n",
      "Attributes:\n",
      "    info:     This is my xarray\n"
     ]
    }
   ],
   "source": [
    "import numpy as np\n",
    "import xarray\n",
    "\n",
    "my_array = np.zeros((3,3,3), \"float32\")\n",
    "\n",
    "# Nobre de dimensiones y coordenadas\n",
    "\n",
    "my_name = \"my_xarray\"\n",
    "\n",
    "my_dims = [\"bottom_top\", \"south_north\", \"west_east\"]\n",
    "\n",
    "my_coords = {\"bottom_top\" : [100., 200., 300.],\n",
    "          \"south_north\": [40., 50., 60.],\n",
    "          \"west_east\" : [-120., -110., -100.]\n",
    "         }\n",
    "\n",
    "my_attrs = {\"info\" : \"This is my xarray\"}\n",
    "\n",
    "my_xarray = xarray.DataArray(my_array,\n",
    "                           name=my_name,\n",
    "                           dims=my_dims, \n",
    "                           coords=my_coords, \n",
    "                           attrs=my_attrs)\n",
    "\n",
    "print (my_xarray)"
   ]
  },
  {
   "cell_type": "markdown",
   "metadata": {},
   "source": [
    "### 2. Cómo leer una salida de WRF \n",
    "\n",
    "El archivo que devuelve el WRF tiene el formato NetCDF y contiene toda la información relativa a la simulación. Basicamente se destacan 3 secciones a tener en cuenta: \n",
    "\n",
    "- La primera son datos globales propios del archivo, como puede ser la fecha de inicio, la versión utilizada de WRF, la resolución, la proyección usada, etc.\n",
    "\n",
    "- La segunda son las dimensiones, tanto de la grilla, de la resolución vertical, y del tiempo\n",
    "\n",
    "- Y la tercera son las variables.\n",
    "\n",
    "Hay varias alternativas de programas para analizar un NetCDF (como por ejemplo ncdump, ncl_filedump, netcdf4-python, PyNIO, xarray, etc), algunos en Python y otros directamente por terminal.\n",
    "\n",
    "\n",
    "\n",
    "#### netcdf4-python\n",
    "\n",
    "Vamos a utilizar **netcdf4-python**, para poder verlo directamente desde la consola de Python. \n",
    "\n",
    "\n",
    "##### Datos globales\n",
    "\n",
    "Una vez cargada la salida del WRF, se pueden listar todos los datos globales con * .\\__dict\\__ * , o también accediendo a cada variable particularmente con * .NOMBRE_VARIABLE *"
   ]
  },
  {
   "cell_type": "code",
   "execution_count": 6,
   "metadata": {},
   "outputs": [
    {
     "data": {
      "text/plain": [
       "u'2017-11-29_06:00:00'"
      ]
     },
     "execution_count": 6,
     "metadata": {},
     "output_type": "execute_result"
    }
   ],
   "source": [
    "from netCDF4 import Dataset\n",
    "\n",
    "nc_file = Dataset(\"wrfout_d01_2017-11-29_06:00:00\")\n",
    "\n",
    "nc_file.START_DATE"
   ]
  },
  {
   "cell_type": "code",
   "execution_count": 7,
   "metadata": {},
   "outputs": [
    {
     "data": {
      "text/plain": [
       "OrderedDict([(u'TITLE', u' OUTPUT FROM WRF V3.9 MODEL'),\n",
       "             (u'START_DATE', u'2017-11-29_06:00:00'),\n",
       "             (u'SIMULATION_START_DATE', u'2017-11-29_06:00:00'),\n",
       "             (u'WEST-EAST_GRID_DIMENSION', 270),\n",
       "             (u'SOUTH-NORTH_GRID_DIMENSION', 270),\n",
       "             (u'BOTTOM-TOP_GRID_DIMENSION', 35),\n",
       "             (u'DX', 4000.0),\n",
       "             (u'DY', 4000.0),\n",
       "             (u'SKEBS_ON', 0),\n",
       "             (u'SPEC_BDY_FINAL_MU', 1),\n",
       "             (u'USE_Q_DIABATIC', 0),\n",
       "             (u'GRIDTYPE', u'C'),\n",
       "             (u'DIFF_OPT', 1),\n",
       "             (u'KM_OPT', 4),\n",
       "             (u'DAMP_OPT', 0),\n",
       "             (u'DAMPCOEF', 0.2),\n",
       "             (u'KHDIF', 0.0),\n",
       "             (u'KVDIF', 0.0),\n",
       "             (u'MP_PHYSICS', 8),\n",
       "             (u'RA_LW_PHYSICS', 1),\n",
       "             (u'RA_SW_PHYSICS', 2),\n",
       "             (u'SF_SFCLAY_PHYSICS', 2),\n",
       "             (u'SF_SURFACE_PHYSICS', 2),\n",
       "             (u'BL_PBL_PHYSICS', 2),\n",
       "             (u'CU_PHYSICS', 0),\n",
       "             (u'SF_LAKE_PHYSICS', 0),\n",
       "             (u'SURFACE_INPUT_SOURCE', 1),\n",
       "             (u'SST_UPDATE', 0),\n",
       "             (u'GRID_FDDA', 0),\n",
       "             (u'GFDDA_INTERVAL_M', 0),\n",
       "             (u'GFDDA_END_H', 0),\n",
       "             (u'GRID_SFDDA', 0),\n",
       "             (u'SGFDDA_INTERVAL_M', 0),\n",
       "             (u'SGFDDA_END_H', 0),\n",
       "             (u'HYPSOMETRIC_OPT', 2),\n",
       "             (u'USE_THETA_M', 0),\n",
       "             (u'GWD_OPT', 0),\n",
       "             (u'SF_URBAN_PHYSICS', 0),\n",
       "             (u'SF_OCEAN_PHYSICS', 0),\n",
       "             (u'SHCU_PHYSICS', 0),\n",
       "             (u'MFSHCONV', 0),\n",
       "             (u'FEEDBACK', 1),\n",
       "             (u'SMOOTH_OPTION', 0),\n",
       "             (u'SWRAD_SCAT', 1.0),\n",
       "             (u'W_DAMPING', 0),\n",
       "             (u'DT', 15.0),\n",
       "             (u'RADT', 4.0),\n",
       "             (u'BLDT', 0.0),\n",
       "             (u'CUDT', 5.0),\n",
       "             (u'AER_OPT', 0),\n",
       "             (u'SWINT_OPT', 0),\n",
       "             (u'AER_TYPE', 1),\n",
       "             (u'AER_AOD550_OPT', 1),\n",
       "             (u'AER_ANGEXP_OPT', 1),\n",
       "             (u'AER_SSA_OPT', 1),\n",
       "             (u'AER_ASY_OPT', 1),\n",
       "             (u'AER_AOD550_VAL', 0.12),\n",
       "             (u'AER_ANGEXP_VAL', 1.3),\n",
       "             (u'AER_SSA_VAL', 0.85000002),\n",
       "             (u'AER_ASY_VAL', 0.89999998),\n",
       "             (u'MOIST_ADV_OPT', 1),\n",
       "             (u'SCALAR_ADV_OPT', 1),\n",
       "             (u'TKE_ADV_OPT', 1),\n",
       "             (u'DIFF_6TH_OPT', 0),\n",
       "             (u'DIFF_6TH_FACTOR', 0.12),\n",
       "             (u'OBS_NUDGE_OPT', 0),\n",
       "             (u'BUCKET_MM', -1.0),\n",
       "             (u'BUCKET_J', -1.0),\n",
       "             (u'PREC_ACC_DT', 0.0),\n",
       "             (u'ISFTCFLX', 0),\n",
       "             (u'ISHALLOW', 0),\n",
       "             (u'ISFFLX', 1),\n",
       "             (u'ICLOUD', 1),\n",
       "             (u'ICLOUD_CU', 0),\n",
       "             (u'TRACER_PBLMIX', 1),\n",
       "             (u'SCALAR_PBLMIX', 0),\n",
       "             (u'YSU_TOPDOWN_PBLMIX', 0),\n",
       "             (u'GRAV_SETTLING', 0),\n",
       "             (u'DFI_OPT', 0),\n",
       "             (u'SIMULATION_INITIALIZATION_TYPE', u'REAL-DATA CASE'),\n",
       "             (u'WEST-EAST_PATCH_START_UNSTAG', 1),\n",
       "             (u'WEST-EAST_PATCH_END_UNSTAG', 269),\n",
       "             (u'WEST-EAST_PATCH_START_STAG', 1),\n",
       "             (u'WEST-EAST_PATCH_END_STAG', 270),\n",
       "             (u'SOUTH-NORTH_PATCH_START_UNSTAG', 1),\n",
       "             (u'SOUTH-NORTH_PATCH_END_UNSTAG', 269),\n",
       "             (u'SOUTH-NORTH_PATCH_START_STAG', 1),\n",
       "             (u'SOUTH-NORTH_PATCH_END_STAG', 270),\n",
       "             (u'BOTTOM-TOP_PATCH_START_UNSTAG', 1),\n",
       "             (u'BOTTOM-TOP_PATCH_END_UNSTAG', 34),\n",
       "             (u'BOTTOM-TOP_PATCH_START_STAG', 1),\n",
       "             (u'BOTTOM-TOP_PATCH_END_STAG', 35),\n",
       "             (u'GRID_ID', 1),\n",
       "             (u'PARENT_ID', 0),\n",
       "             (u'I_PARENT_START', 1),\n",
       "             (u'J_PARENT_START', 1),\n",
       "             (u'PARENT_GRID_RATIO', 1),\n",
       "             (u'CEN_LAT', -32.500008),\n",
       "             (u'CEN_LON', -62.700012),\n",
       "             (u'TRUELAT1', -60.0),\n",
       "             (u'TRUELAT2', -30.0),\n",
       "             (u'MOAD_CEN_LAT', -32.500008),\n",
       "             (u'STAND_LON', -62.700001),\n",
       "             (u'POLE_LAT', 90.0),\n",
       "             (u'POLE_LON', 0.0),\n",
       "             (u'GMT', 6.0),\n",
       "             (u'JULYR', 2017),\n",
       "             (u'JULDAY', 333),\n",
       "             (u'MAP_PROJ', 1),\n",
       "             (u'MAP_PROJ_CHAR', u'Lambert Conformal'),\n",
       "             (u'MMINLU', u'MODIFIED_IGBP_MODIS_NOAH'),\n",
       "             (u'NUM_LAND_CAT', 21),\n",
       "             (u'ISWATER', 17),\n",
       "             (u'ISLAKE', 21),\n",
       "             (u'ISICE', 15),\n",
       "             (u'ISURBAN', 13),\n",
       "             (u'ISOILWATER', 14),\n",
       "             (u'HYBRID_OPT', -1),\n",
       "             (u'ETAC', 0.0)])"
      ]
     },
     "execution_count": 7,
     "metadata": {},
     "output_type": "execute_result"
    }
   ],
   "source": [
    "nc_file.__dict__"
   ]
  },
  {
   "cell_type": "markdown",
   "metadata": {},
   "source": [
    "##### Dimensiones\n",
    "\n",
    "La grilla que utiliza WRF se compone de la siguiente manera:\n",
    "\n",
    "![..](wrf_stagger.png)\n",
    "\n",
    "- Las variables se conputan en los * mass points * que se ubican en el centro de la celda\n",
    "- La componente u del viento se calcula en el limite derecho e izquierdo de la celda. En esta dirección se guarda un punto más.\n",
    "- La componente v del viento se calcula en el limite superior e inferior de la celda. En esta dirección se guarda un punto más.\n",
    "- Las esquinas de la celda son los * staggered points * , tiene un punto más en cada dirección. \n",
    "\n",
    "\n",
    "[link a wrf grid structure del sitio de mmm](http://www2.mmm.ucar.edu/rt/amps/information/configuration/wrf_grid_structure.html)"
   ]
  },
  {
   "cell_type": "code",
   "execution_count": 8,
   "metadata": {},
   "outputs": [
    {
     "data": {
      "text/plain": [
       "OrderedDict([(u'Time',\n",
       "              <type 'netCDF4._netCDF4.Dimension'> (unlimited): name = 'Time', size = 34),\n",
       "             (u'DateStrLen',\n",
       "              <type 'netCDF4._netCDF4.Dimension'>: name = 'DateStrLen', size = 19),\n",
       "             (u'west_east',\n",
       "              <type 'netCDF4._netCDF4.Dimension'>: name = 'west_east', size = 269),\n",
       "             (u'south_north',\n",
       "              <type 'netCDF4._netCDF4.Dimension'>: name = 'south_north', size = 269),\n",
       "             (u'bottom_top',\n",
       "              <type 'netCDF4._netCDF4.Dimension'>: name = 'bottom_top', size = 34),\n",
       "             (u'bottom_top_stag',\n",
       "              <type 'netCDF4._netCDF4.Dimension'>: name = 'bottom_top_stag', size = 35),\n",
       "             (u'soil_layers_stag',\n",
       "              <type 'netCDF4._netCDF4.Dimension'>: name = 'soil_layers_stag', size = 4),\n",
       "             (u'west_east_stag',\n",
       "              <type 'netCDF4._netCDF4.Dimension'>: name = 'west_east_stag', size = 270),\n",
       "             (u'south_north_stag',\n",
       "              <type 'netCDF4._netCDF4.Dimension'>: name = 'south_north_stag', size = 270)])"
      ]
     },
     "execution_count": 8,
     "metadata": {},
     "output_type": "execute_result"
    }
   ],
   "source": [
    "nc_file.dimensions"
   ]
  },
  {
   "cell_type": "markdown",
   "metadata": {},
   "source": [
    "##### Variables\n",
    "\n",
    "Esta estructura es la más compleja. Se pueden listar todas las variables y para cada una se almacena la siguiente estructura:\n",
    "\n",
    "- atributos (datos generales de la variable, como unidad, coordenadas, descripción, etc)\n",
    "- dimensiones (toma alguna de las dimensiones vistas antes)\n",
    "- valores (los valores que toma para cada dimension)\n"
   ]
  },
  {
   "cell_type": "code",
   "execution_count": 9,
   "metadata": {},
   "outputs": [
    {
     "data": {
      "text/plain": [
       "[u'Times',\n",
       " u'XLAT',\n",
       " u'XLONG',\n",
       " u'LU_INDEX',\n",
       " u'ZNU',\n",
       " u'ZNW',\n",
       " u'ZS',\n",
       " u'DZS',\n",
       " u'VAR_SSO',\n",
       " u'U',\n",
       " u'V',\n",
       " u'W',\n",
       " u'PH',\n",
       " u'PHB',\n",
       " u'T',\n",
       " u'HFX_FORCE',\n",
       " u'LH_FORCE',\n",
       " u'TSK_FORCE',\n",
       " u'HFX_FORCE_TEND',\n",
       " u'LH_FORCE_TEND',\n",
       " u'TSK_FORCE_TEND',\n",
       " u'MU',\n",
       " u'MUB',\n",
       " u'NEST_POS',\n",
       " u'P',\n",
       " u'PB',\n",
       " u'FNM',\n",
       " u'FNP',\n",
       " u'RDNW',\n",
       " u'RDN',\n",
       " u'DNW',\n",
       " u'DN',\n",
       " u'CFN',\n",
       " u'CFN1',\n",
       " u'THIS_IS_AN_IDEAL_RUN',\n",
       " u'P_HYD',\n",
       " u'Q2',\n",
       " u'T2',\n",
       " u'TH2',\n",
       " u'PSFC',\n",
       " u'U10',\n",
       " u'V10',\n",
       " u'RDX',\n",
       " u'RDY',\n",
       " u'RESM',\n",
       " u'ZETATOP',\n",
       " u'CF1',\n",
       " u'CF2',\n",
       " u'CF3',\n",
       " u'ITIMESTEP',\n",
       " u'XTIME',\n",
       " u'QVAPOR',\n",
       " u'QCLOUD',\n",
       " u'QRAIN',\n",
       " u'QICE',\n",
       " u'QSNOW',\n",
       " u'QGRAUP',\n",
       " u'QNICE',\n",
       " u'QNRAIN',\n",
       " u'SHDMAX',\n",
       " u'SHDMIN',\n",
       " u'SNOALB',\n",
       " u'TSLB',\n",
       " u'SMOIS',\n",
       " u'SH2O',\n",
       " u'SMCREL',\n",
       " u'SEAICE',\n",
       " u'XICEM',\n",
       " u'SFROFF',\n",
       " u'UDROFF',\n",
       " u'IVGTYP',\n",
       " u'ISLTYP',\n",
       " u'VEGFRA',\n",
       " u'GRDFLX',\n",
       " u'ACGRDFLX',\n",
       " u'ACSNOM',\n",
       " u'SNOW',\n",
       " u'SNOWH',\n",
       " u'CANWAT',\n",
       " u'SSTSK',\n",
       " u'COSZEN',\n",
       " u'LAI',\n",
       " u'VAR',\n",
       " u'TKE_PBL',\n",
       " u'EL_PBL',\n",
       " u'MAPFAC_M',\n",
       " u'MAPFAC_U',\n",
       " u'MAPFAC_V',\n",
       " u'MAPFAC_MX',\n",
       " u'MAPFAC_MY',\n",
       " u'MAPFAC_UX',\n",
       " u'MAPFAC_UY',\n",
       " u'MAPFAC_VX',\n",
       " u'MF_VX_INV',\n",
       " u'MAPFAC_VY',\n",
       " u'F',\n",
       " u'E',\n",
       " u'SINALPHA',\n",
       " u'COSALPHA',\n",
       " u'HGT',\n",
       " u'TSK',\n",
       " u'P_TOP',\n",
       " u'T00',\n",
       " u'P00',\n",
       " u'TLP',\n",
       " u'TISO',\n",
       " u'TLP_STRAT',\n",
       " u'P_STRAT',\n",
       " u'MAX_MSTFX',\n",
       " u'MAX_MSTFY',\n",
       " u'RAINC',\n",
       " u'RAINSH',\n",
       " u'RAINNC',\n",
       " u'SNOWNC',\n",
       " u'GRAUPELNC',\n",
       " u'HAILNC',\n",
       " u'CLDFRA',\n",
       " u'SWDOWN',\n",
       " u'GLW',\n",
       " u'SWNORM',\n",
       " u'OLR',\n",
       " u'XLAT_U',\n",
       " u'XLONG_U',\n",
       " u'XLAT_V',\n",
       " u'XLONG_V',\n",
       " u'ALBEDO',\n",
       " u'CLAT',\n",
       " u'ALBBCK',\n",
       " u'EMISS',\n",
       " u'NOAHRES',\n",
       " u'TMN',\n",
       " u'XLAND',\n",
       " u'UST',\n",
       " u'PBLH',\n",
       " u'HFX',\n",
       " u'QFX',\n",
       " u'LH',\n",
       " u'ACHFX',\n",
       " u'ACLHF',\n",
       " u'SNOWC',\n",
       " u'SR',\n",
       " u'SAVE_TOPO_FROM_REAL',\n",
       " u'ISEEDARR_SPPT',\n",
       " u'ISEEDARR_SKEBS',\n",
       " u'ISEEDARR_RAND_PERTURB',\n",
       " u'ISEEDARRAY_SPP_CONV',\n",
       " u'ISEEDARRAY_SPP_PBL',\n",
       " u'ISEEDARRAY_SPP_LSM',\n",
       " u'BF',\n",
       " u'C1H',\n",
       " u'C2H',\n",
       " u'BH',\n",
       " u'C1F',\n",
       " u'C2F',\n",
       " u'C3H',\n",
       " u'C4H',\n",
       " u'C3F',\n",
       " u'C4F',\n",
       " u'PCB',\n",
       " u'PC',\n",
       " u'LANDMASK',\n",
       " u'LAKEMASK',\n",
       " u'SST',\n",
       " u'SST_INPUT']"
      ]
     },
     "execution_count": 9,
     "metadata": {},
     "output_type": "execute_result"
    }
   ],
   "source": [
    "# Para listar todos los nombres de variables posibles\n",
    "nc_file.variables.keys()"
   ]
  },
  {
   "cell_type": "code",
   "execution_count": 10,
   "metadata": {},
   "outputs": [
    {
     "data": {
      "text/plain": [
       "OrderedDict([(u'FieldType', 104),\n",
       "             (u'MemoryOrder', u'XYZ'),\n",
       "             (u'description',\n",
       "              u'perturbation potential temperature (theta-t0)'),\n",
       "             (u'units', u'K'),\n",
       "             (u'stagger', u''),\n",
       "             (u'coordinates', u'XLONG XLAT XTIME')])"
      ]
     },
     "execution_count": 10,
     "metadata": {},
     "output_type": "execute_result"
    }
   ],
   "source": [
    "# Para listar los atributos de una variable\n",
    "nc_file.variables['T'].__dict__"
   ]
  },
  {
   "cell_type": "code",
   "execution_count": 11,
   "metadata": {},
   "outputs": [
    {
     "data": {
      "text/plain": [
       "(u'Time', u'bottom_top', u'south_north', u'west_east')"
      ]
     },
     "execution_count": 11,
     "metadata": {},
     "output_type": "execute_result"
    }
   ],
   "source": [
    "# Para listar las dimensiones de una variable\n",
    "nc_file.variables['T'].dimensions"
   ]
  },
  {
   "cell_type": "code",
   "execution_count": 12,
   "metadata": {
    "scrolled": true
   },
   "outputs": [
    {
     "data": {
      "text/plain": [
       "array([[[ 295.94186401,  296.04278564,  296.13766479, ...,  288.14498901,\n",
       "          288.18127441,  288.23291016],\n",
       "        [ 295.50531006,  295.65380859,  295.80123901, ...,  288.07849121,\n",
       "          288.16699219,  288.25408936],\n",
       "        [ 294.97113037,  295.17776489,  295.39007568, ...,  287.98153687,\n",
       "          288.13549805,  288.2677002 ],\n",
       "        ..., \n",
       "        [ 279.79547119,  280.1965332 ,  280.74349976, ...,  294.00469971,\n",
       "          293.92666626,  293.85369873],\n",
       "        [ 279.60070801,  280.01660156,  280.59326172, ...,  293.92098999,\n",
       "          293.86279297,  293.80841064],\n",
       "        [ 279.42370605,  279.84521484,  280.44824219, ...,  293.8387146 ,\n",
       "          293.79699707,  293.75778198]],\n",
       "\n",
       "       [[ 294.60928345,  294.5291748 ,  294.57723999, ...,  288.54177856,\n",
       "          288.57104492,  288.60342407],\n",
       "        [ 293.61376953,  293.57034302,  293.78771973, ...,  288.51425171,\n",
       "          288.57388306,  288.62915039],\n",
       "        [ 292.4954834 ,  292.54769897,  293.07275391, ...,  288.48181152,\n",
       "          288.57601929,  288.64929199],\n",
       "        ..., \n",
       "        [ 277.7460022 ,  277.04238892,  277.30667114, ...,  293.23373413,\n",
       "          293.28567505,  293.20874023],\n",
       "        [ 277.44406128,  275.33694458,  276.06481934, ...,  293.24911499,\n",
       "          293.14001465,  293.24081421],\n",
       "        [ 277.81591797,  275.99838257,  276.14096069, ...,  293.29864502,\n",
       "          293.17028809,  293.1312561 ]],\n",
       "\n",
       "       [[ 293.50210571,  293.49057007,  293.52938843, ...,  288.75515747,\n",
       "          288.7819519 ,  288.81097412],\n",
       "        [ 292.53399658,  292.54653931,  292.74090576, ...,  288.73269653,\n",
       "          288.78918457,  288.83700562],\n",
       "        [ 291.45648193,  291.53210449,  292.0085144 , ...,  288.69873047,\n",
       "          288.79003906,  288.85702515],\n",
       "        ..., \n",
       "        [ 276.81231689,  276.17105103,  276.472229  , ...,  292.79956055,\n",
       "          292.85317993,  292.78521729],\n",
       "        [ 276.64028931,  274.69598389,  275.33096313, ...,  292.80432129,\n",
       "          292.71691895,  292.82778931],\n",
       "        [ 277.0116272 ,  275.33056641,  275.45318604, ...,  292.89126587,\n",
       "          292.74111938,  292.69897461]],\n",
       "\n",
       "       ..., \n",
       "       [[ 296.14196777,  295.61032104,  295.37588501, ...,  289.76696777,\n",
       "          289.70578003,  289.6418457 ],\n",
       "        [ 295.1678772 ,  294.83242798,  294.84240723, ...,  289.67208862,\n",
       "          289.76971436,  289.69497681],\n",
       "        [ 293.6583252 ,  293.51828003,  293.91903687, ...,  289.75759888,\n",
       "          289.84158325,  289.75003052],\n",
       "        ..., \n",
       "        [ 280.79071045,  279.77044678,  279.71151733, ...,  301.80859375,\n",
       "          301.84851074,  301.9392395 ],\n",
       "        [ 280.74542236,  277.70053101,  278.01739502, ...,  301.86434937,\n",
       "          301.81491089,  302.0234375 ],\n",
       "        [ 281.07995605,  277.54373169,  277.87408447, ...,  302.06344604,\n",
       "          301.94293213,  301.90866089]],\n",
       "\n",
       "       [[ 297.55239868,  296.95681763,  296.70166016, ...,  289.83013916,\n",
       "          289.76171875,  289.69009399],\n",
       "        [ 296.6446228 ,  296.25466919,  296.24099731, ...,  289.72009277,\n",
       "          289.82366943,  289.7428894 ],\n",
       "        [ 295.08676147,  294.9130249 ,  295.31381226, ...,  289.80606079,\n",
       "          289.89538574,  289.79742432],\n",
       "        ..., \n",
       "        [ 281.72372437,  280.49960327,  280.37966919, ...,  303.91122437,\n",
       "          303.99642944,  304.17288208],\n",
       "        [ 281.6494751 ,  278.08563232,  278.48913574, ...,  303.96099854,\n",
       "          303.91015625,  304.23529053],\n",
       "        [ 281.95901489,  277.78118896,  278.18606567, ...,  304.26116943,\n",
       "          304.11386108,  304.06838989]],\n",
       "\n",
       "       [[ 298.9571228 ,  298.3024292 ,  298.01785278, ...,  289.89331055,\n",
       "          289.81741333,  289.73828125],\n",
       "        [ 298.07296753,  297.56924438,  297.55770874, ...,  289.76797485,\n",
       "          289.87734985,  289.79074097],\n",
       "        [ 296.47351074,  296.17581177,  296.56063843, ...,  289.85400391,\n",
       "          289.94903564,  289.84469604],\n",
       "        ..., \n",
       "        [ 282.26135254,  280.68670654,  280.57501221, ...,  305.85333252,\n",
       "          305.95825195,  306.34786987],\n",
       "        [ 282.0663147 ,  277.90112305,  278.41351318, ...,  305.90795898,\n",
       "          305.86712646,  306.39047241],\n",
       "        [ 282.26187134,  277.51766968,  277.99468994, ...,  306.39938354,\n",
       "          306.22973633,  306.1763916 ]]], dtype=float32)"
      ]
     },
     "execution_count": 12,
     "metadata": {},
     "output_type": "execute_result"
    }
   ],
   "source": [
    "# Para ver el arreglo con los valores\n",
    "nc_file.variables['T2'][:]"
   ]
  },
  {
   "cell_type": "markdown",
   "metadata": {},
   "source": [
    "Por ejemplo para las componentes del viento, que toma valores en los bordes de las grillas, podemos ver que toma otras dimensiones"
   ]
  },
  {
   "cell_type": "code",
   "execution_count": 13,
   "metadata": {},
   "outputs": [
    {
     "data": {
      "text/plain": [
       "OrderedDict([(u'FieldType', 104),\n",
       "             (u'MemoryOrder', u'XYZ'),\n",
       "             (u'description', u'x-wind component'),\n",
       "             (u'units', u'm s-1'),\n",
       "             (u'stagger', u'X'),\n",
       "             (u'coordinates', u'XLONG_U XLAT_U XTIME')])"
      ]
     },
     "execution_count": 13,
     "metadata": {},
     "output_type": "execute_result"
    }
   ],
   "source": [
    "# Para listar los atributos de una variable\n",
    "nc_file.variables['U'].__dict__"
   ]
  },
  {
   "cell_type": "code",
   "execution_count": 14,
   "metadata": {},
   "outputs": [
    {
     "data": {
      "text/plain": [
       "(u'Time', u'bottom_top', u'south_north', u'west_east_stag')"
      ]
     },
     "execution_count": 14,
     "metadata": {},
     "output_type": "execute_result"
    }
   ],
   "source": [
    "# Para listar las dimensiones de una variable\n",
    "nc_file.variables['U'].dimensions"
   ]
  },
  {
   "cell_type": "markdown",
   "metadata": {},
   "source": [
    "### 3. wrf-python\n",
    "\n",
    "**wrf-python** es un paquete desarrollado en Python por la NCAR (National Center for Atmospheric Research) que tiene una colección de cálculos diagnosticos y rutinas para interpolar (a niveles horizontales, * cross section *, a nivel de * superficie * ). Además provee funciones auxiliares para facilitar los gráficos con **cartopy** , ** basemap ** y ** PyNGL **\n",
    "\n",
    "A pesar de que toda la interfaz esté en Python, utiliza rutinas definidas en Fortran para trabajar más eficientemente.\n",
    "\n",
    "Algunas funciones útiles:\n",
    "- getvar: extrae una variable o genera una variable diagnóstico nueva.\n",
    "- interplevel: interpolación lineal de una variable a un plano horizontal de un nivel vertival específico.\n",
    "- vertcross: interpola una variable en 3D a una sección transversal\n",
    "- vinterp: Interpola una variable a una nueva superficie\n",
    "- ll_to_xy, xy_to_ll : funciones para convertir un punto de latitud/longitud a (x,y) de la grilla\n",
    "\n",
    "#### 3.1 getvar\n",
    "\n",
    "Esta función se puede usar para extraer variables que ya estan en el NetCDF o generar variables nuevas. También se puede concatenar una variable a través de varios archivos NetCDF.\n",
    "\n",
    "Por defecto extrae la variable para el tiempo 0, en caso de querer la variable para todos los tiempos del archivo hay que agregar timeidx=wrf.ALL_TIMES\n",
    "\n",
    "En caso de tener la librería xarray cargada, la función devuelve la variable cargada con el tipo de DataArray de xarray.\n",
    "\n",
    "Para ver la tabla de todas las posibles variables diagnositcos que se pueden generar: [link](http://wrf-python.readthedocs.io/en/latest/user_api/generated/wrf.getvar.html)\n",
    "\n",
    "*Ejemplo:*\n"
   ]
  },
  {
   "cell_type": "code",
   "execution_count": 15,
   "metadata": {},
   "outputs": [
    {
     "data": {
      "text/plain": [
       "<xarray.DataArray 'T2' (Time: 34, south_north: 269, west_east: 269)>\n",
       "array([[[ 295.941864,  296.042786, ...,  288.181274,  288.23291 ],\n",
       "        [ 295.50531 ,  295.653809, ...,  288.166992,  288.254089],\n",
       "        ..., \n",
       "        [ 279.600708,  280.016602, ...,  293.862793,  293.808411],\n",
       "        [ 279.423706,  279.845215, ...,  293.796997,  293.757782]],\n",
       "\n",
       "       [[ 294.609283,  294.529175, ...,  288.571045,  288.603424],\n",
       "        [ 293.61377 ,  293.570343, ...,  288.573883,  288.62915 ],\n",
       "        ..., \n",
       "        [ 277.444061,  275.336945, ...,  293.140015,  293.240814],\n",
       "        [ 277.815918,  275.998383, ...,  293.170288,  293.131256]],\n",
       "\n",
       "       ..., \n",
       "       [[ 297.552399,  296.956818, ...,  289.761719,  289.690094],\n",
       "        [ 296.644623,  296.254669, ...,  289.823669,  289.742889],\n",
       "        ..., \n",
       "        [ 281.649475,  278.085632, ...,  303.910156,  304.235291],\n",
       "        [ 281.959015,  277.781189, ...,  304.113861,  304.06839 ]],\n",
       "\n",
       "       [[ 298.957123,  298.302429, ...,  289.817413,  289.738281],\n",
       "        [ 298.072968,  297.569244, ...,  289.87735 ,  289.790741],\n",
       "        ..., \n",
       "        [ 282.066315,  277.901123, ...,  305.867126,  306.390472],\n",
       "        [ 282.261871,  277.51767 , ...,  306.229736,  306.176392]]], dtype=float32)\n",
       "Coordinates:\n",
       "    XLONG    (south_north, west_east) float32 -68.9103 -68.8641 -68.818 ...\n",
       "    XLAT     (south_north, west_east) float32 -37.2171 -37.2199 -37.2227 ...\n",
       "    XTIME    (Time) float32 0.0 60.0 120.0 180.0 240.0 300.0 360.0 420.0 ...\n",
       "  * Time     (Time) datetime64[ns] 2017-11-29T06:00:00 2017-11-29T07:00:00 ...\n",
       "Dimensions without coordinates: south_north, west_east\n",
       "Attributes:\n",
       "    FieldType:    104\n",
       "    MemoryOrder:  XY \n",
       "    description:  TEMP at 2 M\n",
       "    units:        K\n",
       "    stagger:      \n",
       "    coordinates:  XLONG XLAT XTIME\n",
       "    projection:   LambertConformal(stand_lon=-62.7000007629, moad_cen_lat=-32..."
      ]
     },
     "execution_count": 15,
     "metadata": {},
     "output_type": "execute_result"
    }
   ],
   "source": [
    "import wrf \n",
    "\n",
    "# Extrae la temperatura a 2 metros del nivel del suelo\n",
    "t2 = wrf.getvar(nc_file, \"T2\", timeidx=wrf.ALL_TIMES)\n",
    "\n",
    "t2"
   ]
  },
  {
   "cell_type": "code",
   "execution_count": 16,
   "metadata": {},
   "outputs": [
    {
     "data": {
      "text/plain": [
       "<xarray.DataArray u'dbz' (Time: 34, bottom_top: 34, south_north: 269, west_east: 269)>\n",
       "array([[[[-30., ..., -30.],\n",
       "         ..., \n",
       "         [-30., ..., -30.]],\n",
       "\n",
       "        ..., \n",
       "        [[-30., ..., -30.],\n",
       "         ..., \n",
       "         [-30., ..., -30.]]],\n",
       "\n",
       "\n",
       "       ..., \n",
       "       [[[-30., ..., -30.],\n",
       "         ..., \n",
       "         [-30., ..., -30.]],\n",
       "\n",
       "        ..., \n",
       "        [[-30., ..., -30.],\n",
       "         ..., \n",
       "         [-30., ..., -30.]]]], dtype=float32)\n",
       "Coordinates:\n",
       "    XLONG    (south_north, west_east) float32 -68.9103 -68.8641 -68.818 ...\n",
       "    XLAT     (south_north, west_east) float32 -37.2171 -37.2199 -37.2227 ...\n",
       "    XTIME    (Time) float32 0.0 60.0 120.0 180.0 240.0 300.0 360.0 420.0 ...\n",
       "  * Time     (Time) datetime64[ns] 2017-11-29T06:00:00 2017-11-29T07:00:00 ...\n",
       "Dimensions without coordinates: bottom_top, south_north, west_east\n",
       "Attributes:\n",
       "    FieldType:    104\n",
       "    MemoryOrder:  XYZ\n",
       "    description:  radar reflectivity\n",
       "    units:        dBZ\n",
       "    stagger:      \n",
       "    coordinates:  XLONG XLAT XTIME\n",
       "    projection:   LambertConformal(stand_lon=-62.7000007629, moad_cen_lat=-32..."
      ]
     },
     "execution_count": 16,
     "metadata": {},
     "output_type": "execute_result"
    }
   ],
   "source": [
    "# Altura en km, al desactivar la opción msl (Median Sea Level) se calcula AGL (Above Ground Level)\n",
    "z = wrf.getvar(nc_file, 'z', timeidx=wrf.ALL_TIMES, msl=False, units='km')\n",
    "\n",
    "# Reflectividad simulada\n",
    "dbz = wrf.getvar(nc_file, 'dbz', timeidx=wrf.ALL_TIMES)\n",
    "\n",
    "dbz"
   ]
  },
  {
   "cell_type": "markdown",
   "metadata": {},
   "source": [
    "#### 3.2 interplevel\n",
    "\n",
    "Esta función interpola de manera simple y rápida a una altura o nivel de presión específico. Usa  la interpolación lineal, para interpolar con más opciones se puede usar la función ** vinterp **\n",
    "\n",
    "*Ejemplo:*"
   ]
  },
  {
   "cell_type": "code",
   "execution_count": 17,
   "metadata": {},
   "outputs": [
    {
     "data": {
      "text/plain": [
       "<xarray.DataArray u'dbz_10_km' (Time: 34, south_north: 269, west_east: 269)>\n",
       "array([[[-30., -30., ..., -30., -30.],\n",
       "        [-30., -30., ..., -30., -30.],\n",
       "        ..., \n",
       "        [-30., -30., ..., -30., -30.],\n",
       "        [-30., -30., ..., -30., -30.]],\n",
       "\n",
       "       [[-30., -30., ..., -30., -30.],\n",
       "        [-30., -30., ..., -30., -30.],\n",
       "        ..., \n",
       "        [-30., -30., ..., -30., -30.],\n",
       "        [-30., -30., ..., -30., -30.]],\n",
       "\n",
       "       ..., \n",
       "       [[-30., -30., ..., -30., -30.],\n",
       "        [-30., -30., ..., -30., -30.],\n",
       "        ..., \n",
       "        [-30., -30., ..., -30., -30.],\n",
       "        [-30., -30., ..., -30., -30.]],\n",
       "\n",
       "       [[-30., -30., ..., -30., -30.],\n",
       "        [-30., -30., ..., -30., -30.],\n",
       "        ..., \n",
       "        [-30., -30., ..., -30., -30.],\n",
       "        [-30., -30., ..., -30., -30.]]], dtype=float32)\n",
       "Coordinates:\n",
       "    XLONG    (south_north, west_east) float32 -68.9103 -68.8641 -68.818 ...\n",
       "    XLAT     (south_north, west_east) float32 -37.2171 -37.2199 -37.2227 ...\n",
       "    XTIME    (Time) float32 0.0 60.0 120.0 180.0 240.0 300.0 360.0 420.0 ...\n",
       "  * Time     (Time) datetime64[ns] 2017-11-29T06:00:00 2017-11-29T07:00:00 ...\n",
       "Dimensions without coordinates: south_north, west_east\n",
       "Attributes:\n",
       "    FieldType:      104\n",
       "    units:          dBZ\n",
       "    stagger:        \n",
       "    coordinates:    XLONG XLAT XTIME\n",
       "    projection:     LambertConformal(stand_lon=-62.7000007629, moad_cen_lat=-...\n",
       "    level:          10 km\n",
       "    missing_value:  9.96920996839e+36\n",
       "    _FillValue:     9.96920996839e+36"
      ]
     },
     "execution_count": 17,
     "metadata": {},
     "output_type": "execute_result"
    }
   ],
   "source": [
    "# Interpolación de la reflectividad a 10 km sobre la superficie\n",
    "dbz_10 = wrf.interplevel(dbz,z,10)\n",
    "\n",
    "dbz_10"
   ]
  },
  {
   "cell_type": "markdown",
   "metadata": {},
   "source": [
    "#### 3.3 ll_to_xy, xy_to_ll\n",
    "\n",
    "Esta función sirve para encontrar el par (x,y) de la grilla mas cercano a partir de una latitud y longitud (y viceversa).\n",
    "\n",
    "Una vez teniendo el par (x,y) se pueden obtener los datos de las variables para ese lugar.\n",
    "\n",
    "*Ejemplo:*"
   ]
  },
  {
   "cell_type": "code",
   "execution_count": 18,
   "metadata": {},
   "outputs": [
    {
     "data": {
      "text/plain": [
       "(<xarray.DataArray u'xy' ()>\n",
       " array(92)\n",
       " Coordinates:\n",
       "     latlon_coord  object CoordPair(lat=-31.524, lon=-64.463)\n",
       "     x_y           <U1 u'x', <xarray.DataArray u'xy' ()>\n",
       " array(160)\n",
       " Coordinates:\n",
       "     latlon_coord  object CoordPair(lat=-31.524, lon=-64.463)\n",
       "     x_y           <U1 u'y')"
      ]
     },
     "execution_count": 18,
     "metadata": {},
     "output_type": "execute_result"
    }
   ],
   "source": [
    "# Obtenemos los puntos de la grilla para CONAE\n",
    "lat = -31.524\n",
    "lon = -64.463\n",
    "\n",
    "(x, y) = wrf.ll_to_xy(nc_file, lat, lon)\n",
    "\n",
    "(x, y)"
   ]
  },
  {
   "cell_type": "code",
   "execution_count": 19,
   "metadata": {},
   "outputs": [
    {
     "data": {
      "text/plain": [
       "<xarray.DataArray u'latlon' (lat_lon: 2)>\n",
       "array([-31.539852, -64.484512])\n",
       "Coordinates:\n",
       "  * lat_lon   (lat_lon) <U3 u'lat' u'lon'\n",
       "    xy_coord  object CoordPair(x=92, y=160)"
      ]
     },
     "execution_count": 19,
     "metadata": {},
     "output_type": "execute_result"
    }
   ],
   "source": [
    "# Vemos cual es la latitud y longitud exactas que representa ese par (x, y)\n",
    "wrf.xy_to_ll(nc_file, x, y)"
   ]
  },
  {
   "cell_type": "code",
   "execution_count": 20,
   "metadata": {},
   "outputs": [
    {
     "data": {
      "text/plain": [
       "<xarray.DataArray 'T2' (Time: 34)>\n",
       "array([ 290.761841,  290.090515,  291.879974,  291.134796,  292.68924 ,\n",
       "        294.332794,  295.952118,  297.658691,  299.204224,  300.664215,\n",
       "        302.12561 ,  303.507233,  302.664185,  301.604767,  296.742371,\n",
       "        293.368866,  294.701019,  293.168152,  291.597321,  292.302094,\n",
       "        291.999542,  292.705627,  292.190399,  290.109497,  288.89386 ,\n",
       "        288.967224,  289.389709,  289.401337,  291.492004,  294.01062 ,\n",
       "        296.139038,  297.596405,  298.842407,  300.569153], dtype=float32)\n",
       "Coordinates:\n",
       "    XLONG         float32 -64.4845\n",
       "    XLAT          float32 -31.5399\n",
       "    XTIME         (Time) float32 0.0 60.0 120.0 180.0 240.0 300.0 360.0 ...\n",
       "  * Time          (Time) datetime64[ns] 2017-11-29T06:00:00 ...\n",
       "    latlon_coord  object CoordPair(lat=-31.524, lon=-64.463)\n",
       "Attributes:\n",
       "    FieldType:    104\n",
       "    MemoryOrder:  XY \n",
       "    description:  TEMP at 2 M\n",
       "    units:        K\n",
       "    stagger:      \n",
       "    coordinates:  XLONG XLAT XTIME\n",
       "    projection:   LambertConformal(stand_lon=-62.7000007629, moad_cen_lat=-32..."
      ]
     },
     "execution_count": 20,
     "metadata": {},
     "output_type": "execute_result"
    }
   ],
   "source": [
    "# El 'x' es el valor en la coordenada de oeste a este, y el 'y' el valor de la coordenada sur a norte\n",
    "\n",
    "t2_conae = t2[:, y, x]\n",
    "\n",
    "t2_conae"
   ]
  },
  {
   "cell_type": "code",
   "execution_count": 21,
   "metadata": {
    "scrolled": true
   },
   "outputs": [
    {
     "data": {
      "text/plain": [
       "Time\n",
       "2017-11-29 06:00:00    290.761841\n",
       "2017-11-29 07:00:00    290.090515\n",
       "2017-11-29 08:00:00    291.879974\n",
       "2017-11-29 09:00:00    291.134796\n",
       "2017-11-29 10:00:00    292.689240\n",
       "2017-11-29 11:00:00    294.332794\n",
       "2017-11-29 12:00:00    295.952118\n",
       "2017-11-29 13:00:00    297.658691\n",
       "2017-11-29 14:00:00    299.204224\n",
       "2017-11-29 15:00:00    300.664215\n",
       "2017-11-29 16:00:00    302.125610\n",
       "2017-11-29 17:00:00    303.507233\n",
       "2017-11-29 18:00:00    302.664185\n",
       "2017-11-29 19:00:00    301.604767\n",
       "2017-11-29 20:00:00    296.742371\n",
       "2017-11-29 21:00:00    293.368866\n",
       "2017-11-29 22:00:00    294.701019\n",
       "2017-11-29 23:00:00    293.168152\n",
       "2017-11-30 00:00:00    291.597321\n",
       "2017-11-30 01:00:00    292.302094\n",
       "2017-11-30 02:00:00    291.999542\n",
       "2017-11-30 03:00:00    292.705627\n",
       "2017-11-30 04:00:00    292.190399\n",
       "2017-11-30 05:00:00    290.109497\n",
       "2017-11-30 06:00:00    288.893860\n",
       "2017-11-30 07:00:00    288.967224\n",
       "2017-11-30 08:00:00    289.389709\n",
       "2017-11-30 09:00:00    289.401337\n",
       "2017-11-30 10:00:00    291.492004\n",
       "2017-11-30 11:00:00    294.010620\n",
       "2017-11-30 12:00:00    296.139038\n",
       "2017-11-30 13:00:00    297.596405\n",
       "2017-11-30 14:00:00    298.842407\n",
       "2017-11-30 15:00:00    300.569153\n",
       "dtype: float32"
      ]
     },
     "execution_count": 21,
     "metadata": {},
     "output_type": "execute_result"
    }
   ],
   "source": [
    "t2_conae.to_pandas()"
   ]
  },
  {
   "cell_type": "code",
   "execution_count": 25,
   "metadata": {
    "scrolled": true
   },
   "outputs": [
    {
     "data": {
      "text/html": [
       "<div>\n",
       "<style scoped>\n",
       "    .dataframe tbody tr th:only-of-type {\n",
       "        vertical-align: middle;\n",
       "    }\n",
       "\n",
       "    .dataframe tbody tr th {\n",
       "        vertical-align: top;\n",
       "    }\n",
       "\n",
       "    .dataframe thead th {\n",
       "        text-align: right;\n",
       "    }\n",
       "</style>\n",
       "<table border=\"1\" class=\"dataframe\">\n",
       "  <thead>\n",
       "    <tr style=\"text-align: right;\">\n",
       "      <th></th>\n",
       "      <th>T2</th>\n",
       "    </tr>\n",
       "    <tr>\n",
       "      <th>Time</th>\n",
       "      <th></th>\n",
       "    </tr>\n",
       "  </thead>\n",
       "  <tbody>\n",
       "    <tr>\n",
       "      <th>2017-11-29 06:00:00</th>\n",
       "      <td>290.761841</td>\n",
       "    </tr>\n",
       "    <tr>\n",
       "      <th>2017-11-29 07:00:00</th>\n",
       "      <td>290.090515</td>\n",
       "    </tr>\n",
       "    <tr>\n",
       "      <th>2017-11-29 08:00:00</th>\n",
       "      <td>291.879974</td>\n",
       "    </tr>\n",
       "    <tr>\n",
       "      <th>2017-11-29 09:00:00</th>\n",
       "      <td>291.134796</td>\n",
       "    </tr>\n",
       "    <tr>\n",
       "      <th>2017-11-29 10:00:00</th>\n",
       "      <td>292.689240</td>\n",
       "    </tr>\n",
       "    <tr>\n",
       "      <th>2017-11-29 11:00:00</th>\n",
       "      <td>294.332794</td>\n",
       "    </tr>\n",
       "    <tr>\n",
       "      <th>2017-11-29 12:00:00</th>\n",
       "      <td>295.952118</td>\n",
       "    </tr>\n",
       "    <tr>\n",
       "      <th>2017-11-29 13:00:00</th>\n",
       "      <td>297.658691</td>\n",
       "    </tr>\n",
       "    <tr>\n",
       "      <th>2017-11-29 14:00:00</th>\n",
       "      <td>299.204224</td>\n",
       "    </tr>\n",
       "    <tr>\n",
       "      <th>2017-11-29 15:00:00</th>\n",
       "      <td>300.664215</td>\n",
       "    </tr>\n",
       "    <tr>\n",
       "      <th>2017-11-29 16:00:00</th>\n",
       "      <td>302.125610</td>\n",
       "    </tr>\n",
       "    <tr>\n",
       "      <th>2017-11-29 17:00:00</th>\n",
       "      <td>303.507233</td>\n",
       "    </tr>\n",
       "    <tr>\n",
       "      <th>2017-11-29 18:00:00</th>\n",
       "      <td>302.664185</td>\n",
       "    </tr>\n",
       "    <tr>\n",
       "      <th>2017-11-29 19:00:00</th>\n",
       "      <td>301.604767</td>\n",
       "    </tr>\n",
       "    <tr>\n",
       "      <th>2017-11-29 20:00:00</th>\n",
       "      <td>296.742371</td>\n",
       "    </tr>\n",
       "    <tr>\n",
       "      <th>2017-11-29 21:00:00</th>\n",
       "      <td>293.368866</td>\n",
       "    </tr>\n",
       "    <tr>\n",
       "      <th>2017-11-29 22:00:00</th>\n",
       "      <td>294.701019</td>\n",
       "    </tr>\n",
       "    <tr>\n",
       "      <th>2017-11-29 23:00:00</th>\n",
       "      <td>293.168152</td>\n",
       "    </tr>\n",
       "    <tr>\n",
       "      <th>2017-11-30 00:00:00</th>\n",
       "      <td>291.597321</td>\n",
       "    </tr>\n",
       "    <tr>\n",
       "      <th>2017-11-30 01:00:00</th>\n",
       "      <td>292.302094</td>\n",
       "    </tr>\n",
       "    <tr>\n",
       "      <th>2017-11-30 02:00:00</th>\n",
       "      <td>291.999542</td>\n",
       "    </tr>\n",
       "    <tr>\n",
       "      <th>2017-11-30 03:00:00</th>\n",
       "      <td>292.705627</td>\n",
       "    </tr>\n",
       "    <tr>\n",
       "      <th>2017-11-30 04:00:00</th>\n",
       "      <td>292.190399</td>\n",
       "    </tr>\n",
       "    <tr>\n",
       "      <th>2017-11-30 05:00:00</th>\n",
       "      <td>290.109497</td>\n",
       "    </tr>\n",
       "    <tr>\n",
       "      <th>2017-11-30 06:00:00</th>\n",
       "      <td>288.893860</td>\n",
       "    </tr>\n",
       "    <tr>\n",
       "      <th>2017-11-30 07:00:00</th>\n",
       "      <td>288.967224</td>\n",
       "    </tr>\n",
       "    <tr>\n",
       "      <th>2017-11-30 08:00:00</th>\n",
       "      <td>289.389709</td>\n",
       "    </tr>\n",
       "    <tr>\n",
       "      <th>2017-11-30 09:00:00</th>\n",
       "      <td>289.401337</td>\n",
       "    </tr>\n",
       "    <tr>\n",
       "      <th>2017-11-30 10:00:00</th>\n",
       "      <td>291.492004</td>\n",
       "    </tr>\n",
       "    <tr>\n",
       "      <th>2017-11-30 11:00:00</th>\n",
       "      <td>294.010620</td>\n",
       "    </tr>\n",
       "    <tr>\n",
       "      <th>2017-11-30 12:00:00</th>\n",
       "      <td>296.139038</td>\n",
       "    </tr>\n",
       "    <tr>\n",
       "      <th>2017-11-30 13:00:00</th>\n",
       "      <td>297.596405</td>\n",
       "    </tr>\n",
       "    <tr>\n",
       "      <th>2017-11-30 14:00:00</th>\n",
       "      <td>298.842407</td>\n",
       "    </tr>\n",
       "    <tr>\n",
       "      <th>2017-11-30 15:00:00</th>\n",
       "      <td>300.569153</td>\n",
       "    </tr>\n",
       "  </tbody>\n",
       "</table>\n",
       "</div>"
      ],
      "text/plain": [
       "                             T2\n",
       "Time                           \n",
       "2017-11-29 06:00:00  290.761841\n",
       "2017-11-29 07:00:00  290.090515\n",
       "2017-11-29 08:00:00  291.879974\n",
       "2017-11-29 09:00:00  291.134796\n",
       "2017-11-29 10:00:00  292.689240\n",
       "2017-11-29 11:00:00  294.332794\n",
       "2017-11-29 12:00:00  295.952118\n",
       "2017-11-29 13:00:00  297.658691\n",
       "2017-11-29 14:00:00  299.204224\n",
       "2017-11-29 15:00:00  300.664215\n",
       "2017-11-29 16:00:00  302.125610\n",
       "2017-11-29 17:00:00  303.507233\n",
       "2017-11-29 18:00:00  302.664185\n",
       "2017-11-29 19:00:00  301.604767\n",
       "2017-11-29 20:00:00  296.742371\n",
       "2017-11-29 21:00:00  293.368866\n",
       "2017-11-29 22:00:00  294.701019\n",
       "2017-11-29 23:00:00  293.168152\n",
       "2017-11-30 00:00:00  291.597321\n",
       "2017-11-30 01:00:00  292.302094\n",
       "2017-11-30 02:00:00  291.999542\n",
       "2017-11-30 03:00:00  292.705627\n",
       "2017-11-30 04:00:00  292.190399\n",
       "2017-11-30 05:00:00  290.109497\n",
       "2017-11-30 06:00:00  288.893860\n",
       "2017-11-30 07:00:00  288.967224\n",
       "2017-11-30 08:00:00  289.389709\n",
       "2017-11-30 09:00:00  289.401337\n",
       "2017-11-30 10:00:00  291.492004\n",
       "2017-11-30 11:00:00  294.010620\n",
       "2017-11-30 12:00:00  296.139038\n",
       "2017-11-30 13:00:00  297.596405\n",
       "2017-11-30 14:00:00  298.842407\n",
       "2017-11-30 15:00:00  300.569153"
      ]
     },
     "execution_count": 25,
     "metadata": {},
     "output_type": "execute_result"
    }
   ],
   "source": [
    "df = pd.DataFrame(t2_conae.to_pandas(), columns=['T2'])\n",
    "\n",
    "df"
   ]
  },
  {
   "cell_type": "code",
   "execution_count": 29,
   "metadata": {
    "scrolled": true
   },
   "outputs": [
    {
     "data": {
      "text/html": [
       "<div>\n",
       "<style scoped>\n",
       "    .dataframe tbody tr th:only-of-type {\n",
       "        vertical-align: middle;\n",
       "    }\n",
       "\n",
       "    .dataframe tbody tr th {\n",
       "        vertical-align: top;\n",
       "    }\n",
       "\n",
       "    .dataframe thead th {\n",
       "        text-align: right;\n",
       "    }\n",
       "</style>\n",
       "<table border=\"1\" class=\"dataframe\">\n",
       "  <thead>\n",
       "    <tr style=\"text-align: right;\">\n",
       "      <th></th>\n",
       "      <th>T2</th>\n",
       "      <th>T2_degC</th>\n",
       "    </tr>\n",
       "    <tr>\n",
       "      <th>Time</th>\n",
       "      <th></th>\n",
       "      <th></th>\n",
       "    </tr>\n",
       "  </thead>\n",
       "  <tbody>\n",
       "    <tr>\n",
       "      <th>2017-11-29 06:00:00</th>\n",
       "      <td>290.761841</td>\n",
       "      <td>17.611847</td>\n",
       "    </tr>\n",
       "    <tr>\n",
       "      <th>2017-11-29 07:00:00</th>\n",
       "      <td>290.090515</td>\n",
       "      <td>16.940521</td>\n",
       "    </tr>\n",
       "    <tr>\n",
       "      <th>2017-11-29 08:00:00</th>\n",
       "      <td>291.879974</td>\n",
       "      <td>18.729980</td>\n",
       "    </tr>\n",
       "    <tr>\n",
       "      <th>2017-11-29 09:00:00</th>\n",
       "      <td>291.134796</td>\n",
       "      <td>17.984802</td>\n",
       "    </tr>\n",
       "    <tr>\n",
       "      <th>2017-11-29 10:00:00</th>\n",
       "      <td>292.689240</td>\n",
       "      <td>19.539246</td>\n",
       "    </tr>\n",
       "    <tr>\n",
       "      <th>2017-11-29 11:00:00</th>\n",
       "      <td>294.332794</td>\n",
       "      <td>21.182800</td>\n",
       "    </tr>\n",
       "    <tr>\n",
       "      <th>2017-11-29 12:00:00</th>\n",
       "      <td>295.952118</td>\n",
       "      <td>22.802124</td>\n",
       "    </tr>\n",
       "    <tr>\n",
       "      <th>2017-11-29 13:00:00</th>\n",
       "      <td>297.658691</td>\n",
       "      <td>24.508698</td>\n",
       "    </tr>\n",
       "    <tr>\n",
       "      <th>2017-11-29 14:00:00</th>\n",
       "      <td>299.204224</td>\n",
       "      <td>26.054230</td>\n",
       "    </tr>\n",
       "    <tr>\n",
       "      <th>2017-11-29 15:00:00</th>\n",
       "      <td>300.664215</td>\n",
       "      <td>27.514221</td>\n",
       "    </tr>\n",
       "    <tr>\n",
       "      <th>2017-11-29 16:00:00</th>\n",
       "      <td>302.125610</td>\n",
       "      <td>28.975616</td>\n",
       "    </tr>\n",
       "    <tr>\n",
       "      <th>2017-11-29 17:00:00</th>\n",
       "      <td>303.507233</td>\n",
       "      <td>30.357239</td>\n",
       "    </tr>\n",
       "    <tr>\n",
       "      <th>2017-11-29 18:00:00</th>\n",
       "      <td>302.664185</td>\n",
       "      <td>29.514191</td>\n",
       "    </tr>\n",
       "    <tr>\n",
       "      <th>2017-11-29 19:00:00</th>\n",
       "      <td>301.604767</td>\n",
       "      <td>28.454773</td>\n",
       "    </tr>\n",
       "    <tr>\n",
       "      <th>2017-11-29 20:00:00</th>\n",
       "      <td>296.742371</td>\n",
       "      <td>23.592377</td>\n",
       "    </tr>\n",
       "    <tr>\n",
       "      <th>2017-11-29 21:00:00</th>\n",
       "      <td>293.368866</td>\n",
       "      <td>20.218872</td>\n",
       "    </tr>\n",
       "    <tr>\n",
       "      <th>2017-11-29 22:00:00</th>\n",
       "      <td>294.701019</td>\n",
       "      <td>21.551025</td>\n",
       "    </tr>\n",
       "    <tr>\n",
       "      <th>2017-11-29 23:00:00</th>\n",
       "      <td>293.168152</td>\n",
       "      <td>20.018158</td>\n",
       "    </tr>\n",
       "    <tr>\n",
       "      <th>2017-11-30 00:00:00</th>\n",
       "      <td>291.597321</td>\n",
       "      <td>18.447327</td>\n",
       "    </tr>\n",
       "    <tr>\n",
       "      <th>2017-11-30 01:00:00</th>\n",
       "      <td>292.302094</td>\n",
       "      <td>19.152100</td>\n",
       "    </tr>\n",
       "    <tr>\n",
       "      <th>2017-11-30 02:00:00</th>\n",
       "      <td>291.999542</td>\n",
       "      <td>18.849548</td>\n",
       "    </tr>\n",
       "    <tr>\n",
       "      <th>2017-11-30 03:00:00</th>\n",
       "      <td>292.705627</td>\n",
       "      <td>19.555634</td>\n",
       "    </tr>\n",
       "    <tr>\n",
       "      <th>2017-11-30 04:00:00</th>\n",
       "      <td>292.190399</td>\n",
       "      <td>19.040405</td>\n",
       "    </tr>\n",
       "    <tr>\n",
       "      <th>2017-11-30 05:00:00</th>\n",
       "      <td>290.109497</td>\n",
       "      <td>16.959503</td>\n",
       "    </tr>\n",
       "    <tr>\n",
       "      <th>2017-11-30 06:00:00</th>\n",
       "      <td>288.893860</td>\n",
       "      <td>15.743866</td>\n",
       "    </tr>\n",
       "    <tr>\n",
       "      <th>2017-11-30 07:00:00</th>\n",
       "      <td>288.967224</td>\n",
       "      <td>15.817230</td>\n",
       "    </tr>\n",
       "    <tr>\n",
       "      <th>2017-11-30 08:00:00</th>\n",
       "      <td>289.389709</td>\n",
       "      <td>16.239716</td>\n",
       "    </tr>\n",
       "    <tr>\n",
       "      <th>2017-11-30 09:00:00</th>\n",
       "      <td>289.401337</td>\n",
       "      <td>16.251343</td>\n",
       "    </tr>\n",
       "    <tr>\n",
       "      <th>2017-11-30 10:00:00</th>\n",
       "      <td>291.492004</td>\n",
       "      <td>18.342010</td>\n",
       "    </tr>\n",
       "    <tr>\n",
       "      <th>2017-11-30 11:00:00</th>\n",
       "      <td>294.010620</td>\n",
       "      <td>20.860626</td>\n",
       "    </tr>\n",
       "    <tr>\n",
       "      <th>2017-11-30 12:00:00</th>\n",
       "      <td>296.139038</td>\n",
       "      <td>22.989044</td>\n",
       "    </tr>\n",
       "    <tr>\n",
       "      <th>2017-11-30 13:00:00</th>\n",
       "      <td>297.596405</td>\n",
       "      <td>24.446411</td>\n",
       "    </tr>\n",
       "    <tr>\n",
       "      <th>2017-11-30 14:00:00</th>\n",
       "      <td>298.842407</td>\n",
       "      <td>25.692413</td>\n",
       "    </tr>\n",
       "    <tr>\n",
       "      <th>2017-11-30 15:00:00</th>\n",
       "      <td>300.569153</td>\n",
       "      <td>27.419159</td>\n",
       "    </tr>\n",
       "  </tbody>\n",
       "</table>\n",
       "</div>"
      ],
      "text/plain": [
       "                             T2    T2_degC\n",
       "Time                                      \n",
       "2017-11-29 06:00:00  290.761841  17.611847\n",
       "2017-11-29 07:00:00  290.090515  16.940521\n",
       "2017-11-29 08:00:00  291.879974  18.729980\n",
       "2017-11-29 09:00:00  291.134796  17.984802\n",
       "2017-11-29 10:00:00  292.689240  19.539246\n",
       "2017-11-29 11:00:00  294.332794  21.182800\n",
       "2017-11-29 12:00:00  295.952118  22.802124\n",
       "2017-11-29 13:00:00  297.658691  24.508698\n",
       "2017-11-29 14:00:00  299.204224  26.054230\n",
       "2017-11-29 15:00:00  300.664215  27.514221\n",
       "2017-11-29 16:00:00  302.125610  28.975616\n",
       "2017-11-29 17:00:00  303.507233  30.357239\n",
       "2017-11-29 18:00:00  302.664185  29.514191\n",
       "2017-11-29 19:00:00  301.604767  28.454773\n",
       "2017-11-29 20:00:00  296.742371  23.592377\n",
       "2017-11-29 21:00:00  293.368866  20.218872\n",
       "2017-11-29 22:00:00  294.701019  21.551025\n",
       "2017-11-29 23:00:00  293.168152  20.018158\n",
       "2017-11-30 00:00:00  291.597321  18.447327\n",
       "2017-11-30 01:00:00  292.302094  19.152100\n",
       "2017-11-30 02:00:00  291.999542  18.849548\n",
       "2017-11-30 03:00:00  292.705627  19.555634\n",
       "2017-11-30 04:00:00  292.190399  19.040405\n",
       "2017-11-30 05:00:00  290.109497  16.959503\n",
       "2017-11-30 06:00:00  288.893860  15.743866\n",
       "2017-11-30 07:00:00  288.967224  15.817230\n",
       "2017-11-30 08:00:00  289.389709  16.239716\n",
       "2017-11-30 09:00:00  289.401337  16.251343\n",
       "2017-11-30 10:00:00  291.492004  18.342010\n",
       "2017-11-30 11:00:00  294.010620  20.860626\n",
       "2017-11-30 12:00:00  296.139038  22.989044\n",
       "2017-11-30 13:00:00  297.596405  24.446411\n",
       "2017-11-30 14:00:00  298.842407  25.692413\n",
       "2017-11-30 15:00:00  300.569153  27.419159"
      ]
     },
     "execution_count": 29,
     "metadata": {},
     "output_type": "execute_result"
    }
   ],
   "source": [
    "# Agregar columna con la temperatura en grados celsius\n",
    "df['T2_degC'] = df['T2'] - 273.15\n",
    "\n",
    "df"
   ]
  },
  {
   "cell_type": "code",
   "execution_count": 82,
   "metadata": {},
   "outputs": [
    {
     "name": "stdout",
     "output_type": "stream",
     "text": [
      "Máxima 30.3572\n",
      "Mínima 15.7439\n",
      "Media 21.5105018616\n"
     ]
    }
   ],
   "source": [
    "# Temperatura máxima del período de simulación\n",
    "print \"Máxima\", df['T2_degC'].max()\n",
    "\n",
    "# Temperatura mínima del período de simulación\n",
    "print \"Mínima\", df['T2_degC'].min()\n",
    "\n",
    "# Temperatura media del período de simulación\n",
    "print \"Media\", df['T2_degC'].mean()"
   ]
  },
  {
   "cell_type": "markdown",
   "metadata": {},
   "source": [
    "### 4.  Librerías para graficar\n",
    "\n",
    "\n",
    "#### Matplotlib\n",
    "\n",
    "Es la principal librería para trabajar con gráficos en Python. \n",
    "\n",
    "Galeria con ejemplos:\n",
    "\n",
    "http://matplotlib.org/gallery\n",
    "\n",
    "La librería * pandas * trae una integración con matplotlib para graficar rápidamente "
   ]
  },
  {
   "cell_type": "code",
   "execution_count": 39,
   "metadata": {},
   "outputs": [
    {
     "data": {
      "image/png": "[encoded data removed]",
      "text/plain": [
       "<matplotlib.figure.Figure at 0x7fea87d1b150>"
      ]
     },
     "metadata": {},
     "output_type": "display_data"
    }
   ],
   "source": [
    "%matplotlib inline \n",
    "\n",
    "from matplotlib import pyplot as plt\n",
    "\n",
    "df['T2_degC'].plot()\n",
    "\n",
    "plt.title('Temperatura a 2m del suelo en CONAE')\n",
    "\n",
    "plt.show()"
   ]
  },
  {
   "cell_type": "markdown",
   "metadata": {},
   "source": [
    "#### Basemap\n",
    "\n",
    "Basemap es una librería para graficar información en 2D sobre mapas. Tiene varias proyecciones de mapas e información vectorial cargada (como limites políticos, cuerpos de agua, límites continentales, etc.)\n",
    "\n",
    "**wrf-python** trae varias funciones auxiliares para facilitar la carga de datos a basemap. Por ejemplo con **get_basemap** cargamos el mapa del dominio, con **latlon_coords** cargamos las variables latitud y longitud.\n"
   ]
  },
  {
   "cell_type": "markdown",
   "metadata": {},
   "source": [
    "### 5.  Ejemplos"
   ]
  },
  {
   "cell_type": "code",
   "execution_count": 70,
   "metadata": {},
   "outputs": [
    {
     "data": {
      "image/png": "[encoded data removed]",
      "text/plain": [
       "<matplotlib.figure.Figure at 0x7fea87c7e490>"
      ]
     },
     "metadata": {},
     "output_type": "display_data"
    }
   ],
   "source": [
    "from mpl_toolkits.basemap import Basemap\n",
    "from matplotlib.cm import get_cmap\n",
    "\n",
    "t2_degC = t2\n",
    "t2_degC.values = t2_degC.values - 273.15\n",
    "\n",
    "# Nos quedamos con las latitudes y longitudes\n",
    "lats, lons = wrf.latlon_coords(t2_degC)\n",
    "\n",
    "# Creamos el basemap\n",
    "bm = wrf.get_basemap(t2_degC)\n",
    "\n",
    "# Creamos la figura\n",
    "plt.figure(figsize=(12,9))\n",
    "\n",
    "# Se agregan los vectores de datos geográficos\n",
    "bm.drawcoastlines(linewidth=0.25)\n",
    "bm.drawstates(linewidth=0.25)\n",
    "bm.drawcountries(linewidth=0.25)\n",
    "\n",
    "# Definimos la grilla x, y para graficar \n",
    "x, y = bm(wrf.to_np(lons), wrf.to_np(lats))\n",
    "\n",
    "# Se grafica la variable\n",
    "bm.contourf(x, y, t2_degC[8], 10, cmap=get_cmap(\"jet\"))\n",
    "\n",
    "# Se agrega la escala de colores\n",
    "plt.colorbar()\n",
    "\n",
    "plt.title(\"Temperatura a 2m a las 14hs del 29/11/2017\")\n",
    "\n",
    "plt.show()"
   ]
  },
  {
   "cell_type": "code",
   "execution_count": 72,
   "metadata": {},
   "outputs": [
    {
     "data": {
      "image/png": "[encoded data removed]",
      "text/plain": [
       "<matplotlib.figure.Figure at 0x7fea8750ded0>"
      ]
     },
     "metadata": {},
     "output_type": "display_data"
    }
   ],
   "source": [
    "from mpl_toolkits.basemap import Basemap\n",
    "from matplotlib.cm import get_cmap\n",
    "\n",
    "# Creamos la figura\n",
    "plt.figure(figsize=(12,9))\n",
    "\n",
    "# Se agregan los vectores de datos geográficos\n",
    "bm.drawcoastlines(linewidth=0.25)\n",
    "bm.drawstates(linewidth=0.25)\n",
    "bm.drawcountries(linewidth=0.25)\n",
    "\n",
    "# Se grafica la variable\n",
    "bm.contourf(x, y, dbz_10[8], 10, cmap=get_cmap(\"jet\"))\n",
    "\n",
    "# Se agrega la escala de colores\n",
    "plt.colorbar()\n",
    "\n",
    "plt.title(\"Reflectividad a 10km de altura sobre la superficie a las 14hs del 29/11/2017\")\n",
    "\n",
    "plt.show()"
   ]
  },
  {
   "cell_type": "markdown",
   "metadata": {},
   "source": [
    "Para ver más ejemplos en la documentación de wrf-python:\n",
    "http://wrf-python.readthedocs.io/en/latest/plot.html"
   ]
  }
 ],
 "metadata": {
  "kernelspec": {
   "display_name": "Python 2",
   "language": "python",
   "name": "python2"
  },
  "language_info": {
   "codemirror_mode": {
    "name": "ipython",
    "version": 2
   },
   "file_extension": ".py",
   "mimetype": "text/x-python",
   "name": "python",
   "nbconvert_exporter": "python",
   "pygments_lexer": "ipython2",
   "version": "2.7.14"
  }
 },
 "nbformat": 4,
 "nbformat_minor": 1
}
